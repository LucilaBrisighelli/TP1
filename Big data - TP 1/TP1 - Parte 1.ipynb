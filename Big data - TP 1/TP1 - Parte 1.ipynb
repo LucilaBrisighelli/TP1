{
 "cells": [
  {
   "cell_type": "markdown",
   "metadata": {
    "collapsed": true,
    "id": "Dh8MkXaG-c9Y"
   },
   "source": [
    "# Curso de Big Data. Otoño 2024\n",
    "\n",
    "## Trabajo Práctico 1 - Parte 1 "
   ]
  },
  {
   "cell_type": "markdown",
   "metadata": {
    "id": "RhBlm6mZ-c9e"
   },
   "source": [
    "### Reglas de formato y presentación\n",
    "- El trabajo debe estar bien comentado (utilizando #) para que el código sea fácil de entender por sus compañeros y profesores.\n",
    "\n",
    "- El mismo debe ser completado en este Jupyter Notebook y entregado como tal, es decir en un archivo .ipynb\n"
   ]
  },
  {
   "cell_type": "markdown",
   "metadata": {
    "id": "ZEjGaa4U-c9g"
   },
   "source": [
    "### Fecha de entrega:\n",
    "Domingo 24 de marzo a las 23:59hs"
   ]
  },
  {
   "cell_type": "markdown",
   "metadata": {
    "id": "N9TU2y7E-c9h"
   },
   "source": [
    "### Modalidad de entrega\n",
    "- Al finalizar el trabajo práctico deben hacer un último <i>commit</i> en su repositorio de GitHub con el mensaje “Entrega final del tp”. \n",
    "- Asegurense de haber creado una carpeta llamada TP1. Este Jupyter Notebook y el correspondiente al TP1 - Parte 2 deben estar dentro de esa carpeta.\n",
    "- También deben enviar el link de su repositorio -para que pueda ser clonado y corregido- al siguiente email: v.oubina@gmail.com\n",
    "- La última versión en el repositorio es la que será evaluada. Por lo que es importante que: \n",
    "    - No envien el correo hasta no haber terminado y estar seguros de que han hecho el <i>commit y push</i> a la versión final que quieren entregar. Debido a que se pueden tomar hasta 3 días de extensión a lo largo del curso, no se corregirán sus tareas hasta no recibir el correo.\n",
    "    - No hagan nuevos <i>push</i> despues de haber entregado su versión final. Esto generaría confusión acerca de que versión es la que quieren que se les corrija. "
   ]
  },
  {
   "cell_type": "markdown",
   "metadata": {
    "id": "ZXbrPraa-c9i"
   },
   "source": [
    "#### Ejercicio 1\n",
    "Este ejercicio simplemente busca repasar lo que aprendimos sobre definición de variables. Definir dos variables con un nombre combinado (al menos dos palabras), una que se pueda crear y otra que tenga un nombre inaceptable (genera error). Explicar por qué ocurre el error."
   ]
  },
  {
   "cell_type": "code",
   "execution_count": 14,
   "metadata": {
    "id": "mb7PkXfN-c9j",
    "scrolled": true
   },
   "outputs": [
    {
     "name": "stdout",
     "output_type": "stream",
     "text": [
      "63\n"
     ]
    }
   ],
   "source": [
    "#Caso a: Vemos que para este caso definimos una variable (con al menos dos palabras) que nos muestra la cantidad de estudiantes de economia, que definimos con el valor de 23. Al imprimir esta variable, nos devuelve el valor 23 asignado a \"estudiantes_economia\".\n",
    "estudiantes_economia = 63\n",
    "print(estudiantes_economia)\n",
    "\n"
   ]
  },
  {
   "cell_type": "code",
   "execution_count": 13,
   "metadata": {},
   "outputs": [
    {
     "ename": "SyntaxError",
     "evalue": "cannot assign to expression here. Maybe you meant '==' instead of '='? (2154076603.py, line 2)",
     "output_type": "error",
     "traceback": [
      "\u001b[0;36m  Cell \u001b[0;32mIn[13], line 2\u001b[0;36m\u001b[0m\n\u001b[0;31m    estudiantes-udesa = 3000\u001b[0m\n\u001b[0m    ^\u001b[0m\n\u001b[0;31mSyntaxError\u001b[0m\u001b[0;31m:\u001b[0m cannot assign to expression here. Maybe you meant '==' instead of '='?\n"
     ]
    }
   ],
   "source": [
    "#Caso b: Vemos que para este caso creamos una variabe con el nombre inaceptable, ya que definimos estudiantes-udesa, con un guion entre medio, tirandonos el error: 'cannot assign to expression here. Maybe you meant '==' instead of '='?'.\n",
    "estudiantes-udesa = 3000\n",
    " print(estudiantes-udesa)"
   ]
  },
  {
   "cell_type": "markdown",
   "metadata": {},
   "source": [
    "#### Ejercicio 2\n",
    "Importar módulos. Usando el módulo math impriman la tangente de 1. ¿Cuál es el resultado?\n",
    "Hagan este cálculo de dos formas: primero importando el módulo math y usando la función correspondiente y luego solo importando la función específica que precisan para el cálculo."
   ]
  },
  {
   "cell_type": "code",
   "execution_count": 21,
   "metadata": {},
   "outputs": [
    {
     "name": "stdout",
     "output_type": "stream",
     "text": [
      "tangente Caso A = 1.557407724654902\n",
      "tangente Caso B = 1.557407724654902\n"
     ]
    }
   ],
   "source": [
    "# Caso A\n",
    "\n",
    "#primero importamos el modulo math \n",
    "import math \n",
    "#luego definimos nuestra variable, la cual luego nos va a imprimir la tangente de 1 \n",
    "tangente_a = math.tan(1)\n",
    "#imprimimos la variable\n",
    "print('tangente Caso A =', tangente_a)\n",
    "\n",
    "# Caso B\n",
    "\n",
    "#ahora para este caso importamos la funcion especifica que precisamos para calcular la tangente de 1.\n",
    "from math import tan\n",
    "tangente_b=tan(1)\n",
    "#imprimimos la variable\n",
    "print('tangente Caso B =',tangente_b)\n",
    "\n"
   ]
  },
  {
   "cell_type": "markdown",
   "metadata": {
    "id": "GlNh0fyv-c9l"
   },
   "source": [
    "#### Ejercicio 3 \n",
    "Este ejercicio trata sobre lograr el intercambio de valores entre dos variables utilizando una variable temporal para hacerlo. Las variables temporales y la sustitución de valores termina siendo útil en algunos loops. Los pasos a seguir son: (a) definir variables A y B (cuyos valores buscaremos invertir); (b) definir una variable temporal que resguarde el valor de B; (c) sustitución (asignar B igual a A y también A igual al valor original de B); (d) imprimir valores para verificar."
   ]
  },
  {
   "cell_type": "code",
   "execution_count": 23,
   "metadata": {
    "id": "uWalSYFC-c9m"
   },
   "outputs": [
    {
     "name": "stdout",
     "output_type": "stream",
     "text": [
      "a = 2\n",
      "b = 1\n"
     ]
    }
   ],
   "source": [
    "# a) Definir variables A y B, \n",
    "a = 1\n",
    "b = 2\n",
    "\n",
    "# b) Definir variable temporal \"tmp\" igual a B (la variable, no el valor)\n",
    "tmp = b\n",
    "\n",
    "# c) Ahora sustituir variables: variable B igual a variable A (la variable, no el\n",
    "# valor) y viceversa.\n",
    "\n",
    "b = a\n",
    "a = tmp\n",
    "\n",
    "\n",
    "# d) Verifiquemos resultados: imprimir variables A y B\n",
    "# ahora imprimos las variables y esperamos que los valores se encuentren invertidos. \n",
    "print ('a =',a)\n",
    "\n",
    "print ('b =',b)\n"
   ]
  },
  {
   "cell_type": "markdown",
   "metadata": {
    "id": "wXhAaRyN-c9p"
   },
   "source": [
    "#### Ejercicio 4\n",
    "En este ejercicio se busca poner en práctica el uso de range() en un for loop. \n",
    "\n",
    "Construir un for loop usando un range(). El range debe ser entre los valores que quieran (con una diferencia mínima de 15 entre start y stop), en incrementos de 3 unidades. Dentro del loop, implementar una sentencia condicional que imprima una leyenda indicando si el input es par o impar."
   ]
  },
  {
   "cell_type": "code",
   "execution_count": 49,
   "metadata": {
    "id": "_oE5sG0c-c9q"
   },
   "outputs": [
    {
     "name": "stdout",
     "output_type": "stream",
     "text": [
      "1 es impar\n",
      "4 es par\n",
      "7 es impar\n",
      "10 es par\n",
      "13 es impar\n",
      "16 es par\n",
      "19 es impar\n"
     ]
    }
   ],
   "source": [
    "#definimos el limite del range \n",
    "start = 1\n",
    "stop = 20\n",
    "#construimos un for loop usando range, en incremenetos de 3 unidades.\n",
    "for n in range(start, stop, 3):\n",
    "    # implementamos una sentencia condicional que imprima una leyenda indicando si el número es par o impar\n",
    "    if n % 2 == 0:\n",
    "        print(f'{n} es par')\n",
    "    else:\n",
    "        print(f'{n} es impar')\n"
   ]
  },
  {
   "cell_type": "markdown",
   "metadata": {
    "id": "h3g5bXUB-c9u"
   },
   "source": [
    "#### Ejercicio 5\n",
    "Para practicar el uso de condiciones lógicas y la definición de funciones, construir una función con una sentencia condicional que verifique si un año es bisiesto o no. Para que un año sea bisiesto debe cumplir una de dos condiciones:\n",
    "\n",
    "(a) que sea divisible por 400; o\n",
    "\n",
    "(b) que sea divisible por 4 y no sea divisible por 100\n",
    "\n",
    "Notar que son dos condiciones, donde la segunda condición tiene dos componentes. Prueben la función con 3 valores para verificar que funcione."
   ]
  },
  {
   "cell_type": "code",
   "execution_count": 48,
   "metadata": {
    "id": "7_MnILdz-c9v"
   },
   "outputs": [
    {
     "name": "stdout",
     "output_type": "stream",
     "text": [
      "2022 no es bisiesto\n",
      "2023 no es bisiesto\n",
      "2024 es bisiesto\n"
     ]
    }
   ],
   "source": [
    "def año_bisiesto(año):\n",
    "   \n",
    "  if(año % 400 == 0) or (año % 4 == 0 and año % 100 != 0):\n",
    "    return True\n",
    "  else:\n",
    "        return False\n",
    "#probamos con varios valores \n",
    "años = [2022, 2023, 2024]\n",
    "\n",
    "for año in años:\n",
    "    if año_bisiesto(año): \n",
    "        print (f\"{año} es bisiesto\")\n",
    "    else: \n",
    "        print (f\"{año} no es bisiesto\")"
   ]
  },
  {
   "cell_type": "markdown",
   "metadata": {
    "collapsed": true,
    "id": "P3a7bJkd-c9w"
   },
   "source": [
    "#### Ejercicio 6 \n",
    "Pongamos en práctica identificar el type() de cada variable. A continuación tenemos una lista con elementos de diferentes tipos. Construyan un for loop que itere sobre la lista e imprima un cartel indicando el tipo de dato u objeto que hay en cada caso."
   ]
  },
  {
   "cell_type": "code",
   "execution_count": 51,
   "metadata": {
    "id": "jDf4d_Wr-c9w"
   },
   "outputs": [],
   "source": [
    "mi_lista = [10, 34.5, 99999, 'abc', [1,2,3], ('ARG', 1810), {'pob': 45}, True]"
   ]
  },
  {
   "cell_type": "code",
   "execution_count": 54,
   "metadata": {
    "id": "SAJgEiNEFQAS"
   },
   "outputs": [
    {
     "name": "stdout",
     "output_type": "stream",
     "text": [
      "el tipo de dato/objeto: <class 'int'>\n",
      "el tipo de dato/objeto: <class 'float'>\n",
      "el tipo de dato/objeto: <class 'int'>\n",
      "el tipo de dato/objeto: <class 'str'>\n",
      "el tipo de dato/objeto: <class 'list'>\n",
      "el tipo de dato/objeto: <class 'tuple'>\n",
      "el tipo de dato/objeto: <class 'dict'>\n",
      "el tipo de dato/objeto: <class 'bool'>\n"
     ]
    }
   ],
   "source": [
    "for elemento in mi_lista: \n",
    "    tipo = type(elemento)\n",
    "    print(f\"el tipo de dato/objeto:\",tipo)"
   ]
  },
  {
   "cell_type": "markdown",
   "metadata": {
    "id": "y1lncitl-c9x"
   },
   "source": [
    "#### Ejercicio 7\n",
    "Ahora definan ustedes una nueva lista, en la que los primeros cuatro elementos sean palabras (strings), el quinto elemento no sea string, y el sexto sea string. Construyan un for loop que corra por la lista y que imprima la palabra y la longitud de la misma. Que el loop contenga una sentencia condicional que imprima un cartel \"Elemento no es un string: < el elemento > | < class del elemento >\" para los casos dónde el elemento evaluado no sea string."
   ]
  },
  {
   "cell_type": "code",
   "execution_count": 63,
   "metadata": {
    "id": "bFOk9Os0-c9x"
   },
   "outputs": [
    {
     "name": "stdout",
     "output_type": "stream",
     "text": [
      "argentina,9\n",
      "alemania,8\n",
      "grecia,6\n",
      "francia,7\n",
      "Elemento no es un string: 3 | <class 'int'>\n",
      "italia,6\n"
     ]
    }
   ],
   "source": [
    "# Primero definimos la lista\n",
    "mi_lista = ['argentina', \"alemania\", \"grecia\", \"francia\", 3, \"italia\"]\n",
    "\n",
    "# Ahora construimos un for loop que corra por la lista y que imprima la palabra y la longitud.\n",
    "for elemento in mi_lista:\n",
    "    if isinstance(elemento, str):\n",
    "        print(f'{elemento},{len(elemento)}')\n",
    "    else:\n",
    "        print(f\"Elemento no es un string: {elemento} | {type(elemento)}\")\n"
   ]
  },
  {
   "cell_type": "markdown",
   "metadata": {
    "id": "PUpxDz72-c9x"
   },
   "source": [
    "#### Ejercicio 8\n",
    "Argentina tiene una representación legislativa proporcional en la cual la cantidad de diputados se debería ajustar según el tamaño de población de cada provincia. Otra característica de la representación legislativa del país es que hay una cantidad mínima de diputados por provincia (5). Esto genera un desbalance en la cantidad de ciudadanos por cada representante en el Congreso entre provincias.\n",
    "\n",
    "A continuación preparamos algunos ejemplos, dividiendo la población de cada provincia (según estimación para el 2022) por la cantidad de representantes en el Congreso para esa misma jurisdicción. También armamos el equivalente para el total país y una lista con los valores provinciales.\n",
    "\n",
    "En este ejercicio les pedimos que construyan un for loop que itere sobre el diccionario definido y compare cada valor provincial contra el valor de proporcionalidad directa (la variable argentina). El loop debe imprimir una leyenda que indique si la provincia está sobrerepresentada, subrepresentada o con representación proporcional. Además, queremos que el mismo loop compare los valores de las provincias sobrerepresentadas y que guarde el valor de la provincia con mayor sobrerepresentación. Luego del loop impriman este valor así podemos ver que haya funcionado.\n",
    "\n",
    "Fuente para población: https://es.wikipedia.org/wiki/Demograf%C3%ADa_de_Argentina\n",
    "\n",
    "Fuente para representantes: https://es.wikipedia.org/wiki/C%C3%A1mara_de_Diputados_de_la_Naci%C3%B3n_Argentina"
   ]
  },
  {
   "cell_type": "code",
   "execution_count": 2,
   "metadata": {
    "id": "hd8Z5AHs-c9y"
   },
   "outputs": [],
   "source": [
    "# Valor de referencia: proporcionalidad\n",
    "argentina = 46044703 / 257\n",
    "\n",
    "# Creamos variables para una selección de jurisdicciones\n",
    "cordoba = 3978984 / 18\n",
    "santa_fe = 3556522 / 19\n",
    "mendoza = 2014533 / 10\n",
    "buenos_aires = 17569053 / 70\n",
    "entre_rios =  1426426 / 9\n",
    "santa_cruz = 333473 / 5\n",
    "formosa = 606041 / 5\n",
    "\n",
    "# Definimos el diccionario para iterar\n",
    "dict_provincias = {\n",
    "    \"Córdoba\": cordoba,\n",
    "    \"Santa Fe\": santa_fe,\n",
    "    \"Mendoza\": mendoza,\n",
    "    \"Buenos Aires\": buenos_aires,\n",
    "    \"Entre Ríos\": entre_rios,\n",
    "    \"Santa Cruz\": santa_cruz,\n",
    "    \"Formosa\": formosa\n",
    "}"
   ]
  },
  {
   "cell_type": "code",
   "execution_count": 16,
   "metadata": {
    "id": "fsEHnxiY-c9y",
    "scrolled": true
   },
   "outputs": [
    {
     "name": "stdout",
     "output_type": "stream",
     "text": [
      "Córdoba está sobrerepresentada.\n",
      "Santa Fe está sobrerepresentada.\n",
      "Mendoza está sobrerepresentada.\n",
      "Buenos Aires está sobrerepresentada.\n",
      "Entre Ríos está subrepresentada\n",
      "Santa Cruz está subrepresentada\n",
      "Formosa está subrepresentada\n",
      "la provincia con mayor sobrerepresentación es: Buenos Aires\n"
     ]
    }
   ],
   "source": [
    "#primero definimos una variable que determine la provincia con mayor sobrepresentacion, que toma el valor de none para poder guardar el nombre de la provincia durante la iteracion.\n",
    "#luego definimos la sgunda variable que inica en 0 para guardar el valor mas alto encontrado\n",
    "prov_mayor_sob = None\n",
    "mayor_sob = 0\n",
    "#iteramos sobre el diccionario de provincias, en la cual durante cada iteracion se compara la relcion poblacion a representates de cada provincia\n",
    "for provincia, representacion in dict_provincias.items():\n",
    "    if representacion > argentina:\n",
    "        print(f\"{provincia} está sobrerepresentada.\")\n",
    "#esta condición se evalúa cuando la representación de una provincia es mayor que el valor de referencia argentina. Si esta diferencia es mayor que la variable mayor_sob, significa que la provincia actual tiene una sobrerepresentación mayor que otra provincia \n",
    "        if representacion - argentina > mayor_sob:\n",
    "# si la diferencia entre la representación de la provincia actual y el valor de referencia argentina es mayor que mayor_sob, la actualizamos con este nuevo valor\n",
    "            mayor_sob = representacion - argentina\n",
    "            prov_mayor_sob = provincia\n",
    "#guardamos el nombre de la provincia que tiene la mayor sobrerepresentación hasta el ahora\n",
    "    elif representacion < argentina:\n",
    "        print(f\"{provincia} está subrepresentada\")\n",
    "    else:\n",
    "        print(f\"{provincia} tiene representación proporcional\")\n",
    "\n",
    "# Imprimimos la provincia con mayor sobrerepresentación\n",
    "print(f\"la provincia con mayor sobrerepresentación es: {prov_mayor_sob}\")\n"
   ]
  },
  {
   "cell_type": "markdown",
   "metadata": {
    "id": "GokZe5tV-c9z"
   },
   "source": [
    "#### Ejercicio 9\n",
    "Si buscáramos minimizar la subrepresentación de la provincia de Buenos Aires, ¿cuántos representantes debería tener según el Censo 2022? Usemos el mismo criterio de sub/sobrerepresentacion que en el ejercicio anterior: población sobre cantidad de representantes.\n",
    "\n",
    "Para responder esta pregunta construyan un while loop que incremente de a uno la cantidad de representantes de la Provincia hasta minimizar la subrepresentación. En cada iteración impriman un cartel que diga: \"Se agregó un representante, el total ahora es X\" dónde X es el número de representantes simulado."
   ]
  },
  {
   "cell_type": "code",
   "execution_count": 6,
   "metadata": {
    "id": "x9DvuXa_-c9z"
   },
   "outputs": [],
   "source": [
    "# Estos son los valores de la provincia\n",
    "representantes_pba = 70\n",
    "poblacion2010_pba = 17594428\n",
    "\n",
    "\n",
    "# Y el valor de referencia nacional\n",
    "argentina = 46044703 / 257\n"
   ]
  },
  {
   "cell_type": "code",
   "execution_count": 12,
   "metadata": {},
   "outputs": [
    {
     "name": "stdout",
     "output_type": "stream",
     "text": [
      "el censo de 2022 deberia tener 71 representantes\n"
     ]
    }
   ],
   "source": [
    "representacion = poblacion2010_pba / representantes_pba\n",
    "representantes_simulados = representantes_pba\n",
    "\n",
    "# contruimos un while loop que incremente de a uno la cantidad de representantes de la Provincia hasta minimizar la subrepresentación\n",
    "while True:\n",
    "# primero le indicamos que tiene que incrementar el numero de representantes simulados\n",
    "    representantes_simulados += 1 \n",
    "# calculamos la nueva representación \"luego del incremento\"\n",
    "    representacion2 = poblacion2010_pba / representantes_simulados\n",
    "    \n",
    "#vemos si la nueva representacion es mayor o igual al valor de la referencia nacional\n",
    "    if representacion2 >= argentina:\n",
    "        break  # indicamos que termine el loop si llegamos al valor de referencia\n",
    "    \n",
    "#imprimimos el cartel\n",
    "    print(f\"Se agregó un representante, el total ahora es {representantes_simulados}\")\n",
    "\n",
    "# la respuesta es\n",
    "print(f\"el censo de 2022 deberia tener {representantes_simulados} representantes\")"
   ]
  },
  {
   "cell_type": "markdown",
   "metadata": {},
   "source": [
    "#### Ejercicio 10"
   ]
  },
  {
   "cell_type": "markdown",
   "metadata": {},
   "source": [
    "Construyan una función llamada 'suma' que tome una cantidad variable de parámetros y devuelva el resultado de la suma."
   ]
  },
  {
   "cell_type": "code",
   "execution_count": 15,
   "metadata": {},
   "outputs": [
    {
     "name": "stdout",
     "output_type": "stream",
     "text": [
      "12\n"
     ]
    }
   ],
   "source": [
    "def suma(*numeros):\n",
    "    return sum(numeros)\n",
    "print(suma(2, 4, 6)) \n",
    "\n"
   ]
  },
  {
   "cell_type": "code",
   "execution_count": null,
   "metadata": {},
   "outputs": [],
   "source": []
  }
 ],
 "metadata": {
  "anaconda-cloud": {},
  "colab": {
   "name": "TP1 - Parte 1.ipynb",
   "provenance": []
  },
  "kernelspec": {
   "display_name": "Python 3 (ipykernel)",
   "language": "python",
   "name": "python3"
  },
  "language_info": {
   "codemirror_mode": {
    "name": "ipython",
    "version": 3
   },
   "file_extension": ".py",
   "mimetype": "text/x-python",
   "name": "python",
   "nbconvert_exporter": "python",
   "pygments_lexer": "ipython3",
   "version": "3.11.4"
  }
 },
 "nbformat": 4,
 "nbformat_minor": 1
}
